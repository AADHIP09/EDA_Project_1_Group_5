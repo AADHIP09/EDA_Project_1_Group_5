{
 "cells": [
  {
   "cell_type": "code",
   "execution_count": 2,
   "id": "7473da62",
   "metadata": {},
   "outputs": [],
   "source": [
    "import numpy as np \n",
    "import pandas as pd\n",
    "import matplotlib.pyplot as plt"
   ]
  },
  {
   "cell_type": "code",
   "execution_count": 3,
   "id": "05905221",
   "metadata": {},
   "outputs": [
    {
     "data": {
      "text/html": [
       "<div>\n",
       "<style scoped>\n",
       "    .dataframe tbody tr th:only-of-type {\n",
       "        vertical-align: middle;\n",
       "    }\n",
       "\n",
       "    .dataframe tbody tr th {\n",
       "        vertical-align: top;\n",
       "    }\n",
       "\n",
       "    .dataframe thead th {\n",
       "        text-align: right;\n",
       "    }\n",
       "</style>\n",
       "<table border=\"1\" class=\"dataframe\">\n",
       "  <thead>\n",
       "    <tr style=\"text-align: right;\">\n",
       "      <th></th>\n",
       "      <th>Unnamed: 0</th>\n",
       "      <th>brand</th>\n",
       "      <th>model</th>\n",
       "      <th>color</th>\n",
       "      <th>registration_date</th>\n",
       "      <th>year</th>\n",
       "      <th>price_in_euro</th>\n",
       "      <th>power_ps</th>\n",
       "      <th>transmission_type</th>\n",
       "      <th>fuel_type</th>\n",
       "      <th>fuel_consumption_l_100km</th>\n",
       "      <th>mileage_in_km</th>\n",
       "    </tr>\n",
       "  </thead>\n",
       "  <tbody>\n",
       "    <tr>\n",
       "      <th>0</th>\n",
       "      <td>723</td>\n",
       "      <td>alfa-romeo</td>\n",
       "      <td>Alfa Romeo Stelvio</td>\n",
       "      <td>blue</td>\n",
       "      <td>08/2019</td>\n",
       "      <td>2019</td>\n",
       "      <td>41990</td>\n",
       "      <td>510</td>\n",
       "      <td>Automatic</td>\n",
       "      <td>Petrol</td>\n",
       "      <td>9.2</td>\n",
       "      <td>199000.0</td>\n",
       "    </tr>\n",
       "    <tr>\n",
       "      <th>1</th>\n",
       "      <td>724</td>\n",
       "      <td>alfa-romeo</td>\n",
       "      <td>Alfa Romeo Giulietta</td>\n",
       "      <td>blue</td>\n",
       "      <td>10/2019</td>\n",
       "      <td>2019</td>\n",
       "      <td>16995</td>\n",
       "      <td>120</td>\n",
       "      <td>Manual</td>\n",
       "      <td>Petrol</td>\n",
       "      <td>7.4</td>\n",
       "      <td>49700.0</td>\n",
       "    </tr>\n",
       "    <tr>\n",
       "      <th>2</th>\n",
       "      <td>725</td>\n",
       "      <td>alfa-romeo</td>\n",
       "      <td>Alfa Romeo Giulia</td>\n",
       "      <td>blue</td>\n",
       "      <td>02/2019</td>\n",
       "      <td>2019</td>\n",
       "      <td>30880</td>\n",
       "      <td>209</td>\n",
       "      <td>Automatic</td>\n",
       "      <td>Diesel</td>\n",
       "      <td>5.5</td>\n",
       "      <td>129357.0</td>\n",
       "    </tr>\n",
       "    <tr>\n",
       "      <th>3</th>\n",
       "      <td>726</td>\n",
       "      <td>alfa-romeo</td>\n",
       "      <td>Alfa Romeo Stelvio</td>\n",
       "      <td>blue</td>\n",
       "      <td>10/2019</td>\n",
       "      <td>2019</td>\n",
       "      <td>30890</td>\n",
       "      <td>190</td>\n",
       "      <td>Automatic</td>\n",
       "      <td>Diesel</td>\n",
       "      <td>6.1</td>\n",
       "      <td>82239.0</td>\n",
       "    </tr>\n",
       "    <tr>\n",
       "      <th>4</th>\n",
       "      <td>727</td>\n",
       "      <td>alfa-romeo</td>\n",
       "      <td>Alfa Romeo Stelvio</td>\n",
       "      <td>blue</td>\n",
       "      <td>05/2019</td>\n",
       "      <td>2019</td>\n",
       "      <td>68900</td>\n",
       "      <td>510</td>\n",
       "      <td>Unknown</td>\n",
       "      <td>Petrol</td>\n",
       "      <td>9.8</td>\n",
       "      <td>7000.0</td>\n",
       "    </tr>\n",
       "  </tbody>\n",
       "</table>\n",
       "</div>"
      ],
      "text/plain": [
       "   Unnamed: 0       brand                 model color registration_date  year  \\\n",
       "0         723  alfa-romeo    Alfa Romeo Stelvio  blue           08/2019  2019   \n",
       "1         724  alfa-romeo  Alfa Romeo Giulietta  blue           10/2019  2019   \n",
       "2         725  alfa-romeo     Alfa Romeo Giulia  blue           02/2019  2019   \n",
       "3         726  alfa-romeo    Alfa Romeo Stelvio  blue           10/2019  2019   \n",
       "4         727  alfa-romeo    Alfa Romeo Stelvio  blue           05/2019  2019   \n",
       "\n",
       "   price_in_euro  power_ps transmission_type fuel_type  \\\n",
       "0          41990       510         Automatic    Petrol   \n",
       "1          16995       120            Manual    Petrol   \n",
       "2          30880       209         Automatic    Diesel   \n",
       "3          30890       190         Automatic    Diesel   \n",
       "4          68900       510           Unknown    Petrol   \n",
       "\n",
       "   fuel_consumption_l_100km  mileage_in_km  \n",
       "0                       9.2       199000.0  \n",
       "1                       7.4        49700.0  \n",
       "2                       5.5       129357.0  \n",
       "3                       6.1        82239.0  \n",
       "4                       9.8         7000.0  "
      ]
     },
     "execution_count": 3,
     "metadata": {},
     "output_type": "execute_result"
    }
   ],
   "source": [
    "df = pd.read_csv('base_clean/base_5_data.csv')\n",
    "dfhead()"
   ]
  },
  {
   "cell_type": "code",
   "execution_count": 5,
   "id": "fa86c5fd",
   "metadata": {},
   "outputs": [
    {
     "name": "stdout",
     "output_type": "stream",
     "text": [
      "<class 'pandas.core.frame.DataFrame'>\n",
      "RangeIndex: 88616 entries, 0 to 88615\n",
      "Data columns (total 12 columns):\n",
      " #   Column                    Non-Null Count  Dtype  \n",
      "---  ------                    --------------  -----  \n",
      " 0   Unnamed: 0                88616 non-null  int64  \n",
      " 1   brand                     88616 non-null  object \n",
      " 2   model                     88616 non-null  object \n",
      " 3   color                     88616 non-null  object \n",
      " 4   registration_date         88616 non-null  object \n",
      " 5   year                      88616 non-null  int64  \n",
      " 6   price_in_euro             88616 non-null  int64  \n",
      " 7   power_ps                  88616 non-null  int64  \n",
      " 8   transmission_type         88616 non-null  object \n",
      " 9   fuel_type                 88616 non-null  object \n",
      " 10  fuel_consumption_l_100km  88616 non-null  float64\n",
      " 11  mileage_in_km             88616 non-null  float64\n",
      "dtypes: float64(2), int64(4), object(6)\n",
      "memory usage: 8.1+ MB\n"
     ]
    }
   ],
   "source": [
    "df.info()"
   ]
  },
  {
   "cell_type": "code",
   "execution_count": null,
   "id": "9087b98c",
   "metadata": {},
   "outputs": [],
   "source": []
  },
  {
   "cell_type": "code",
   "execution_count": 7,
   "id": "774ebf38",
   "metadata": {},
   "outputs": [
    {
     "data": {
      "text/plain": [
       "year\n",
       "2019    28918.440370\n",
       "2020    32889.007794\n",
       "2021    37530.500869\n",
       "2022    42365.314912\n",
       "2023    40952.881248\n",
       "Name: price_in_euro, dtype: float64"
      ]
     },
     "execution_count": 7,
     "metadata": {},
     "output_type": "execute_result"
    }
   ],
   "source": [
    "yearly_avg_prices = df.groupby('year')['price_in_euro'].mean()\n",
    "yearly_avg_prices"
   ]
  },
  {
   "cell_type": "code",
   "execution_count": 9,
   "id": "226b1ee5",
   "metadata": {},
   "outputs": [
    {
     "data": {
      "image/png": "[encoded data removed]",
      "text/plain": [
       "<Figure size 1200x600 with 1 Axes>"
      ]
     },
     "metadata": {},
     "output_type": "display_data"
    }
   ],
   "source": [
    "plt.figure(figsize=(12, 6))\n",
    "yearly_avg_prices.plot(marker='o')\n",
    "plt.title('Average Car Prices Over the Years')\n",
    "plt.xlabel('Year')\n",
    "plt.ylabel('Average Price (Euro)')\n",
    "plt.show()"
   ]
  },
  {
   "cell_type": "code",
   "execution_count": null,
   "id": "209b4e56",
   "metadata": {},
   "outputs": [],
   "source": []
  }
 ],
 "metadata": {
  "kernelspec": {
   "display_name": "Python 3 (ipykernel)",
   "language": "python",
   "name": "python3"
  },
  "language_info": {
   "codemirror_mode": {
    "name": "ipython",
    "version": 3
   },
   "file_extension": ".py",
   "mimetype": "text/x-python",
   "name": "python",
   "nbconvert_exporter": "python",
   "pygments_lexer": "ipython3",
   "version": "3.10.11"
  }
 },
 "nbformat": 4,
 "nbformat_minor": 5
}

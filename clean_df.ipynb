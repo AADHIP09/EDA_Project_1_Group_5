{
 "cells": [
  {
   "cell_type": "code",
   "execution_count": 1,
   "id": "0f8e8a86",
   "metadata": {},
   "outputs": [],
   "source": [
    "import pandas as pd\n",
    "import numpy as np"
   ]
  },
  {
   "cell_type": "code",
   "execution_count": 19,
   "id": "77a9b8b2",
   "metadata": {},
   "outputs": [
    {
     "data": {
      "text/html": [
       "<div>\n",
       "<style scoped>\n",
       "    .dataframe tbody tr th:only-of-type {\n",
       "        vertical-align: middle;\n",
       "    }\n",
       "\n",
       "    .dataframe tbody tr th {\n",
       "        vertical-align: top;\n",
       "    }\n",
       "\n",
       "    .dataframe thead th {\n",
       "        text-align: right;\n",
       "    }\n",
       "</style>\n",
       "<table border=\"1\" class=\"dataframe\">\n",
       "  <thead>\n",
       "    <tr style=\"text-align: right;\">\n",
       "      <th></th>\n",
       "      <th>Unnamed: 0</th>\n",
       "      <th>brand</th>\n",
       "      <th>model</th>\n",
       "      <th>color</th>\n",
       "      <th>registration_date</th>\n",
       "      <th>year</th>\n",
       "      <th>price_in_euro</th>\n",
       "      <th>power_kw</th>\n",
       "      <th>power_ps</th>\n",
       "      <th>transmission_type</th>\n",
       "      <th>fuel_type</th>\n",
       "      <th>fuel_consumption_l_100km</th>\n",
       "      <th>fuel_consumption_g_km</th>\n",
       "      <th>mileage_in_km</th>\n",
       "      <th>offer_description</th>\n",
       "    </tr>\n",
       "  </thead>\n",
       "  <tbody>\n",
       "    <tr>\n",
       "      <th>0</th>\n",
       "      <td>0</td>\n",
       "      <td>alfa-romeo</td>\n",
       "      <td>Alfa Romeo GTV</td>\n",
       "      <td>red</td>\n",
       "      <td>10/1995</td>\n",
       "      <td>1995</td>\n",
       "      <td>1300</td>\n",
       "      <td>148</td>\n",
       "      <td>201</td>\n",
       "      <td>Manual</td>\n",
       "      <td>Petrol</td>\n",
       "      <td>10,9 l/100 km</td>\n",
       "      <td>260 g/km</td>\n",
       "      <td>160500.0</td>\n",
       "      <td>2.0 V6 TB</td>\n",
       "    </tr>\n",
       "    <tr>\n",
       "      <th>1</th>\n",
       "      <td>1</td>\n",
       "      <td>alfa-romeo</td>\n",
       "      <td>Alfa Romeo 164</td>\n",
       "      <td>black</td>\n",
       "      <td>02/1995</td>\n",
       "      <td>1995</td>\n",
       "      <td>24900</td>\n",
       "      <td>191</td>\n",
       "      <td>260</td>\n",
       "      <td>Manual</td>\n",
       "      <td>Petrol</td>\n",
       "      <td>NaN</td>\n",
       "      <td>- (g/km)</td>\n",
       "      <td>190000.0</td>\n",
       "      <td>Q4 Allrad, 3.2L GTA</td>\n",
       "    </tr>\n",
       "    <tr>\n",
       "      <th>2</th>\n",
       "      <td>2</td>\n",
       "      <td>alfa-romeo</td>\n",
       "      <td>Alfa Romeo Spider</td>\n",
       "      <td>black</td>\n",
       "      <td>02/1995</td>\n",
       "      <td>1995</td>\n",
       "      <td>5900</td>\n",
       "      <td>110</td>\n",
       "      <td>150</td>\n",
       "      <td>Unknown</td>\n",
       "      <td>Petrol</td>\n",
       "      <td>NaN</td>\n",
       "      <td>- (g/km)</td>\n",
       "      <td>129000.0</td>\n",
       "      <td>ALFA ROME 916</td>\n",
       "    </tr>\n",
       "    <tr>\n",
       "      <th>3</th>\n",
       "      <td>3</td>\n",
       "      <td>alfa-romeo</td>\n",
       "      <td>Alfa Romeo Spider</td>\n",
       "      <td>black</td>\n",
       "      <td>07/1995</td>\n",
       "      <td>1995</td>\n",
       "      <td>4900</td>\n",
       "      <td>110</td>\n",
       "      <td>150</td>\n",
       "      <td>Manual</td>\n",
       "      <td>Petrol</td>\n",
       "      <td>9,5 l/100 km</td>\n",
       "      <td>225 g/km</td>\n",
       "      <td>189500.0</td>\n",
       "      <td>2.0 16V Twin Spark L</td>\n",
       "    </tr>\n",
       "    <tr>\n",
       "      <th>4</th>\n",
       "      <td>4</td>\n",
       "      <td>alfa-romeo</td>\n",
       "      <td>Alfa Romeo 164</td>\n",
       "      <td>red</td>\n",
       "      <td>11/1996</td>\n",
       "      <td>1996</td>\n",
       "      <td>17950</td>\n",
       "      <td>132</td>\n",
       "      <td>179</td>\n",
       "      <td>Manual</td>\n",
       "      <td>Petrol</td>\n",
       "      <td>7,2 l/100 km</td>\n",
       "      <td>- (g/km)</td>\n",
       "      <td>96127.0</td>\n",
       "      <td>3.0i Super V6, absoluter Topzustand !</td>\n",
       "    </tr>\n",
       "  </tbody>\n",
       "</table>\n",
       "</div>"
      ],
      "text/plain": [
       "   Unnamed: 0       brand              model  color registration_date  year  \\\n",
       "0           0  alfa-romeo     Alfa Romeo GTV    red           10/1995  1995   \n",
       "1           1  alfa-romeo     Alfa Romeo 164  black           02/1995  1995   \n",
       "2           2  alfa-romeo  Alfa Romeo Spider  black           02/1995  1995   \n",
       "3           3  alfa-romeo  Alfa Romeo Spider  black           07/1995  1995   \n",
       "4           4  alfa-romeo     Alfa Romeo 164    red           11/1996  1996   \n",
       "\n",
       "  price_in_euro power_kw power_ps transmission_type fuel_type  \\\n",
       "0          1300      148      201            Manual    Petrol   \n",
       "1         24900      191      260            Manual    Petrol   \n",
       "2          5900      110      150           Unknown    Petrol   \n",
       "3          4900      110      150            Manual    Petrol   \n",
       "4         17950      132      179            Manual    Petrol   \n",
       "\n",
       "  fuel_consumption_l_100km fuel_consumption_g_km  mileage_in_km  \\\n",
       "0            10,9 l/100 km              260 g/km       160500.0   \n",
       "1                      NaN              - (g/km)       190000.0   \n",
       "2                      NaN              - (g/km)       129000.0   \n",
       "3             9,5 l/100 km              225 g/km       189500.0   \n",
       "4             7,2 l/100 km              - (g/km)        96127.0   \n",
       "\n",
       "                       offer_description  \n",
       "0                              2.0 V6 TB  \n",
       "1                    Q4 Allrad, 3.2L GTA  \n",
       "2                          ALFA ROME 916  \n",
       "3                   2.0 16V Twin Spark L  \n",
       "4  3.0i Super V6, absoluter Topzustand !  "
      ]
     },
     "execution_count": 19,
     "metadata": {},
     "output_type": "execute_result"
    }
   ],
   "source": [
    "orignal_df = pd.read_csv('data.csv')\n",
    "orignal_df.head()"
   ]
  },
  {
   "cell_type": "code",
   "execution_count": 3,
   "id": "567f4527",
   "metadata": {},
   "outputs": [
    {
     "data": {
      "text/plain": [
       "(251079, 15)"
      ]
     },
     "execution_count": 3,
     "metadata": {},
     "output_type": "execute_result"
    }
   ],
   "source": [
    "orignal_df.shape"
   ]
  },
  {
   "cell_type": "code",
   "execution_count": 20,
   "id": "f5c78277",
   "metadata": {},
   "outputs": [
    {
     "name": "stdout",
     "output_type": "stream",
     "text": [
      "<class 'pandas.core.frame.DataFrame'>\n",
      "RangeIndex: 251079 entries, 0 to 251078\n",
      "Data columns (total 15 columns):\n",
      " #   Column                    Non-Null Count   Dtype  \n",
      "---  ------                    --------------   -----  \n",
      " 0   Unnamed: 0                251079 non-null  int64  \n",
      " 1   brand                     251079 non-null  object \n",
      " 2   model                     251079 non-null  object \n",
      " 3   color                     250913 non-null  object \n",
      " 4   registration_date         251075 non-null  object \n",
      " 5   year                      251079 non-null  object \n",
      " 6   price_in_euro             251079 non-null  object \n",
      " 7   power_kw                  250945 non-null  object \n",
      " 8   power_ps                  250950 non-null  object \n",
      " 9   transmission_type         251079 non-null  object \n",
      " 10  fuel_type                 251079 non-null  object \n",
      " 11  fuel_consumption_l_100km  224206 non-null  object \n",
      " 12  fuel_consumption_g_km     251079 non-null  object \n",
      " 13  mileage_in_km             250927 non-null  float64\n",
      " 14  offer_description         251078 non-null  object \n",
      "dtypes: float64(1), int64(1), object(13)\n",
      "memory usage: 28.7+ MB\n"
     ]
    }
   ],
   "source": [
    "orignal_df.info()"
   ]
  },
  {
   "cell_type": "code",
   "execution_count": 4,
   "id": "1184af49",
   "metadata": {},
   "outputs": [
    {
     "data": {
      "text/plain": [
       "Index(['Unnamed: 0', 'brand', 'model', 'color', 'registration_date', 'year',\n",
       "       'price_in_euro', 'power_kw', 'power_ps', 'transmission_type',\n",
       "       'fuel_type', 'fuel_consumption_l_100km', 'fuel_consumption_g_km',\n",
       "       'mileage_in_km', 'offer_description'],\n",
       "      dtype='object')"
      ]
     },
     "execution_count": 4,
     "metadata": {},
     "output_type": "execute_result"
    }
   ],
   "source": [
    "orignal_df.columns"
   ]
  },
  {
   "cell_type": "code",
   "execution_count": 5,
   "id": "051824aa",
   "metadata": {},
   "outputs": [],
   "source": [
    "orignal_df = orignal_df.drop(columns=['power_kw', 'fuel_consumption_g_km','offer_description'])"
   ]
  },
  {
   "cell_type": "code",
   "execution_count": 6,
   "id": "522ae406",
   "metadata": {},
   "outputs": [
    {
     "data": {
      "text/plain": [
       "Index(['Unnamed: 0', 'brand', 'model', 'color', 'registration_date', 'year',\n",
       "       'price_in_euro', 'power_ps', 'transmission_type', 'fuel_type',\n",
       "       'fuel_consumption_l_100km', 'mileage_in_km'],\n",
       "      dtype='object')"
      ]
     },
     "execution_count": 6,
     "metadata": {},
     "output_type": "execute_result"
    }
   ],
   "source": [
    "orignal_df.columns"
   ]
  },
  {
   "cell_type": "code",
   "execution_count": 7,
   "id": "e0fbbf4c",
   "metadata": {},
   "outputs": [
    {
     "data": {
      "text/plain": [
       "Unnamed: 0                      0\n",
       "brand                           0\n",
       "model                           0\n",
       "color                         166\n",
       "registration_date               4\n",
       "year                            0\n",
       "price_in_euro                   0\n",
       "power_ps                      129\n",
       "transmission_type               0\n",
       "fuel_type                       0\n",
       "fuel_consumption_l_100km    26873\n",
       "mileage_in_km                 152\n",
       "dtype: int64"
      ]
     },
     "execution_count": 7,
     "metadata": {},
     "output_type": "execute_result"
    }
   ],
   "source": [
    "orignal_df.isnull().sum()"
   ]
  },
  {
   "cell_type": "code",
   "execution_count": 8,
   "id": "49df7305",
   "metadata": {},
   "outputs": [],
   "source": [
    "#dropping less null containing columns\n",
    "\n",
    "clean_df=orignal_df.dropna(subset=['color','registration_date','fuel_consumption_l_100km','power_ps','mileage_in_km'])"
   ]
  },
  {
   "cell_type": "code",
   "execution_count": 9,
   "id": "85d3aa03",
   "metadata": {},
   "outputs": [
    {
     "data": {
      "text/plain": [
       "(223842, 12)"
      ]
     },
     "execution_count": 9,
     "metadata": {},
     "output_type": "execute_result"
    }
   ],
   "source": [
    "clean_df.shape"
   ]
  },
  {
   "cell_type": "code",
   "execution_count": 10,
   "id": "de10c97c",
   "metadata": {},
   "outputs": [
    {
     "data": {
      "text/plain": [
       "True     222681\n",
       "False      1161\n",
       "Name: fuel_consumption_l_100km, dtype: int64"
      ]
     },
     "execution_count": 10,
     "metadata": {},
     "output_type": "execute_result"
    }
   ],
   "source": [
    "substring = \"l/100 km\"\n",
    "matches = clean_df['fuel_consumption_l_100km'].str.contains(substring,na=True)\n",
    "matches.value_counts()"
   ]
  },
  {
   "cell_type": "code",
   "execution_count": 11,
   "id": "6273a507",
   "metadata": {},
   "outputs": [],
   "source": [
    "clean_df = clean_df[matches==True]"
   ]
  },
  {
   "cell_type": "code",
   "execution_count": 12,
   "id": "7b0b7cbc",
   "metadata": {},
   "outputs": [
    {
     "data": {
      "text/plain": [
       "(222681, 12)"
      ]
     },
     "execution_count": 12,
     "metadata": {},
     "output_type": "execute_result"
    }
   ],
   "source": [
    "clean_df.shape"
   ]
  },
  {
   "cell_type": "code",
   "execution_count": 13,
   "id": "8b3d5da6",
   "metadata": {},
   "outputs": [
    {
     "data": {
      "text/plain": [
       "pandas.core.series.Series"
      ]
     },
     "execution_count": 13,
     "metadata": {},
     "output_type": "execute_result"
    }
   ],
   "source": [
    "type(clean_df['price_in_euro'])"
   ]
  },
  {
   "cell_type": "code",
   "execution_count": 14,
   "id": "38e6de85",
   "metadata": {},
   "outputs": [
    {
     "name": "stdout",
     "output_type": "stream",
     "text": [
      "['1995' '1996' '1997' '1998' '1999' '2000' '2001' '2002' '2003' '2004'\n",
      " '2005' '2006' '2007' '2008' '2009' '2010' '2011' '2012' '2013' '2014'\n",
      " '2015' '2016' '2017' '2018' '2019' '2020' '2021' '2022' '2023']\n"
     ]
    }
   ],
   "source": [
    "print(clean_df['year'].unique())"
   ]
  },
  {
   "cell_type": "code",
   "execution_count": 24,
   "id": "7b1ae1bb",
   "metadata": {},
   "outputs": [],
   "source": [
    "clean_df= clean_df.loc[(clean_df['year'] == \"2021\") | \n",
    "                        (clean_df['year'] == \"2022\") |\n",
    "                        (clean_df['year'] == \"2023\")]"
   ]
  },
  {
   "cell_type": "code",
   "execution_count": 25,
   "id": "65cdc0a4",
   "metadata": {},
   "outputs": [
    {
     "data": {
      "text/plain": [
       "(48544, 12)"
      ]
     },
     "execution_count": 25,
     "metadata": {},
     "output_type": "execute_result"
    }
   ],
   "source": [
    "clean_df.shape"
   ]
  },
  {
   "cell_type": "code",
   "execution_count": 26,
   "id": "cae346fe",
   "metadata": {
    "scrolled": true
   },
   "outputs": [
    {
     "data": {
      "text/html": [
       "<div>\n",
       "<style scoped>\n",
       "    .dataframe tbody tr th:only-of-type {\n",
       "        vertical-align: middle;\n",
       "    }\n",
       "\n",
       "    .dataframe tbody tr th {\n",
       "        vertical-align: top;\n",
       "    }\n",
       "\n",
       "    .dataframe thead th {\n",
       "        text-align: right;\n",
       "    }\n",
       "</style>\n",
       "<table border=\"1\" class=\"dataframe\">\n",
       "  <thead>\n",
       "    <tr style=\"text-align: right;\">\n",
       "      <th></th>\n",
       "      <th>Unnamed: 0</th>\n",
       "      <th>brand</th>\n",
       "      <th>model</th>\n",
       "      <th>color</th>\n",
       "      <th>registration_date</th>\n",
       "      <th>year</th>\n",
       "      <th>price_in_euro</th>\n",
       "      <th>power_ps</th>\n",
       "      <th>transmission_type</th>\n",
       "      <th>fuel_type</th>\n",
       "      <th>fuel_consumption_l_100km</th>\n",
       "      <th>mileage_in_km</th>\n",
       "    </tr>\n",
       "  </thead>\n",
       "  <tbody>\n",
       "    <tr>\n",
       "      <th>933</th>\n",
       "      <td>933</td>\n",
       "      <td>alfa-romeo</td>\n",
       "      <td>Alfa Romeo Giulia</td>\n",
       "      <td>blue</td>\n",
       "      <td>10/2021</td>\n",
       "      <td>2021</td>\n",
       "      <td>59790</td>\n",
       "      <td>280</td>\n",
       "      <td>Automatic</td>\n",
       "      <td>Petrol</td>\n",
       "      <td>6,7 l/100 km</td>\n",
       "      <td>10.0</td>\n",
       "    </tr>\n",
       "    <tr>\n",
       "      <th>934</th>\n",
       "      <td>934</td>\n",
       "      <td>alfa-romeo</td>\n",
       "      <td>Alfa Romeo Stelvio</td>\n",
       "      <td>blue</td>\n",
       "      <td>12/2021</td>\n",
       "      <td>2021</td>\n",
       "      <td>71090</td>\n",
       "      <td>280</td>\n",
       "      <td>Automatic</td>\n",
       "      <td>Petrol</td>\n",
       "      <td>7,3 l/100 km</td>\n",
       "      <td>490.0</td>\n",
       "    </tr>\n",
       "    <tr>\n",
       "      <th>935</th>\n",
       "      <td>935</td>\n",
       "      <td>alfa-romeo</td>\n",
       "      <td>Alfa Romeo Giulia</td>\n",
       "      <td>blue</td>\n",
       "      <td>09/2021</td>\n",
       "      <td>2021</td>\n",
       "      <td>70800</td>\n",
       "      <td>510</td>\n",
       "      <td>Automatic</td>\n",
       "      <td>Petrol</td>\n",
       "      <td>9,2 l/100 km</td>\n",
       "      <td>21373.0</td>\n",
       "    </tr>\n",
       "    <tr>\n",
       "      <th>936</th>\n",
       "      <td>936</td>\n",
       "      <td>alfa-romeo</td>\n",
       "      <td>Alfa Romeo Stelvio</td>\n",
       "      <td>blue</td>\n",
       "      <td>04/2021</td>\n",
       "      <td>2021</td>\n",
       "      <td>44750</td>\n",
       "      <td>209</td>\n",
       "      <td>Automatic</td>\n",
       "      <td>Diesel</td>\n",
       "      <td>5,7 l/100 km</td>\n",
       "      <td>66000.0</td>\n",
       "    </tr>\n",
       "    <tr>\n",
       "      <th>937</th>\n",
       "      <td>937</td>\n",
       "      <td>alfa-romeo</td>\n",
       "      <td>Alfa Romeo Giulia</td>\n",
       "      <td>blue</td>\n",
       "      <td>02/2021</td>\n",
       "      <td>2021</td>\n",
       "      <td>36650</td>\n",
       "      <td>190</td>\n",
       "      <td>Automatic</td>\n",
       "      <td>Diesel</td>\n",
       "      <td>4,8 l/100 km</td>\n",
       "      <td>50935.0</td>\n",
       "    </tr>\n",
       "  </tbody>\n",
       "</table>\n",
       "</div>"
      ],
      "text/plain": [
       "     Unnamed: 0       brand               model color registration_date  year  \\\n",
       "933         933  alfa-romeo   Alfa Romeo Giulia  blue           10/2021  2021   \n",
       "934         934  alfa-romeo  Alfa Romeo Stelvio  blue           12/2021  2021   \n",
       "935         935  alfa-romeo   Alfa Romeo Giulia  blue           09/2021  2021   \n",
       "936         936  alfa-romeo  Alfa Romeo Stelvio  blue           04/2021  2021   \n",
       "937         937  alfa-romeo   Alfa Romeo Giulia  blue           02/2021  2021   \n",
       "\n",
       "    price_in_euro power_ps transmission_type fuel_type  \\\n",
       "933         59790      280         Automatic    Petrol   \n",
       "934         71090      280         Automatic    Petrol   \n",
       "935         70800      510         Automatic    Petrol   \n",
       "936         44750      209         Automatic    Diesel   \n",
       "937         36650      190         Automatic    Diesel   \n",
       "\n",
       "    fuel_consumption_l_100km  mileage_in_km  \n",
       "933             6,7 l/100 km           10.0  \n",
       "934             7,3 l/100 km          490.0  \n",
       "935             9,2 l/100 km        21373.0  \n",
       "936             5,7 l/100 km        66000.0  \n",
       "937             4,8 l/100 km        50935.0  "
      ]
     },
     "execution_count": 26,
     "metadata": {},
     "output_type": "execute_result"
    }
   ],
   "source": [
    "clean_df.head()"
   ]
  },
  {
   "cell_type": "code",
   "execution_count": 28,
   "id": "ce6819ba",
   "metadata": {},
   "outputs": [],
   "source": [
    "clean_df.to_csv('clean_data.csv')"
   ]
  }
 ],
 "metadata": {
  "kernelspec": {
   "display_name": "Python 3 (ipykernel)",
   "language": "python",
   "name": "python3"
  },
  "language_info": {
   "codemirror_mode": {
    "name": "ipython",
    "version": 3
   },
   "file_extension": ".py",
   "mimetype": "text/x-python",
   "name": "python",
   "nbconvert_exporter": "python",
   "pygments_lexer": "ipython3",
   "version": "3.10.11"
  }
 },
 "nbformat": 4,
 "nbformat_minor": 5
}

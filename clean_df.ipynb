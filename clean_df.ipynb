{
 "cells": [
  {
   "cell_type": "code",
   "execution_count": 27,
   "id": "a770dc25",
   "metadata": {},
   "outputs": [],
   "source": [
    "import pandas as pd\n",
    "import numpy as np\n",
    "import warnings"
   ]
  },
  {
   "cell_type": "code",
   "execution_count": 28,
   "id": "e9d439b2",
   "metadata": {},
   "outputs": [
    {
     "data": {
      "text/html": [
       "<div>\n",
       "<style scoped>\n",
       "    .dataframe tbody tr th:only-of-type {\n",
       "        vertical-align: middle;\n",
       "    }\n",
       "\n",
       "    .dataframe tbody tr th {\n",
       "        vertical-align: top;\n",
       "    }\n",
       "\n",
       "    .dataframe thead th {\n",
       "        text-align: right;\n",
       "    }\n",
       "</style>\n",
       "<table border=\"1\" class=\"dataframe\">\n",
       "  <thead>\n",
       "    <tr style=\"text-align: right;\">\n",
       "      <th></th>\n",
       "      <th>Unnamed: 0</th>\n",
       "      <th>brand</th>\n",
       "      <th>model</th>\n",
       "      <th>color</th>\n",
       "      <th>registration_date</th>\n",
       "      <th>year</th>\n",
       "      <th>price_in_euro</th>\n",
       "      <th>power_kw</th>\n",
       "      <th>power_ps</th>\n",
       "      <th>transmission_type</th>\n",
       "      <th>fuel_type</th>\n",
       "      <th>fuel_consumption_l_100km</th>\n",
       "      <th>fuel_consumption_g_km</th>\n",
       "      <th>mileage_in_km</th>\n",
       "      <th>offer_description</th>\n",
       "    </tr>\n",
       "  </thead>\n",
       "  <tbody>\n",
       "    <tr>\n",
       "      <th>0</th>\n",
       "      <td>0</td>\n",
       "      <td>alfa-romeo</td>\n",
       "      <td>Alfa Romeo GTV</td>\n",
       "      <td>red</td>\n",
       "      <td>10/1995</td>\n",
       "      <td>1995</td>\n",
       "      <td>1300</td>\n",
       "      <td>148</td>\n",
       "      <td>201</td>\n",
       "      <td>Manual</td>\n",
       "      <td>Petrol</td>\n",
       "      <td>10,9 l/100 km</td>\n",
       "      <td>260 g/km</td>\n",
       "      <td>160500.0</td>\n",
       "      <td>2.0 V6 TB</td>\n",
       "    </tr>\n",
       "    <tr>\n",
       "      <th>1</th>\n",
       "      <td>1</td>\n",
       "      <td>alfa-romeo</td>\n",
       "      <td>Alfa Romeo 164</td>\n",
       "      <td>black</td>\n",
       "      <td>02/1995</td>\n",
       "      <td>1995</td>\n",
       "      <td>24900</td>\n",
       "      <td>191</td>\n",
       "      <td>260</td>\n",
       "      <td>Manual</td>\n",
       "      <td>Petrol</td>\n",
       "      <td>NaN</td>\n",
       "      <td>- (g/km)</td>\n",
       "      <td>190000.0</td>\n",
       "      <td>Q4 Allrad, 3.2L GTA</td>\n",
       "    </tr>\n",
       "    <tr>\n",
       "      <th>2</th>\n",
       "      <td>2</td>\n",
       "      <td>alfa-romeo</td>\n",
       "      <td>Alfa Romeo Spider</td>\n",
       "      <td>black</td>\n",
       "      <td>02/1995</td>\n",
       "      <td>1995</td>\n",
       "      <td>5900</td>\n",
       "      <td>110</td>\n",
       "      <td>150</td>\n",
       "      <td>Unknown</td>\n",
       "      <td>Petrol</td>\n",
       "      <td>NaN</td>\n",
       "      <td>- (g/km)</td>\n",
       "      <td>129000.0</td>\n",
       "      <td>ALFA ROME 916</td>\n",
       "    </tr>\n",
       "    <tr>\n",
       "      <th>3</th>\n",
       "      <td>3</td>\n",
       "      <td>alfa-romeo</td>\n",
       "      <td>Alfa Romeo Spider</td>\n",
       "      <td>black</td>\n",
       "      <td>07/1995</td>\n",
       "      <td>1995</td>\n",
       "      <td>4900</td>\n",
       "      <td>110</td>\n",
       "      <td>150</td>\n",
       "      <td>Manual</td>\n",
       "      <td>Petrol</td>\n",
       "      <td>9,5 l/100 km</td>\n",
       "      <td>225 g/km</td>\n",
       "      <td>189500.0</td>\n",
       "      <td>2.0 16V Twin Spark L</td>\n",
       "    </tr>\n",
       "    <tr>\n",
       "      <th>4</th>\n",
       "      <td>4</td>\n",
       "      <td>alfa-romeo</td>\n",
       "      <td>Alfa Romeo 164</td>\n",
       "      <td>red</td>\n",
       "      <td>11/1996</td>\n",
       "      <td>1996</td>\n",
       "      <td>17950</td>\n",
       "      <td>132</td>\n",
       "      <td>179</td>\n",
       "      <td>Manual</td>\n",
       "      <td>Petrol</td>\n",
       "      <td>7,2 l/100 km</td>\n",
       "      <td>- (g/km)</td>\n",
       "      <td>96127.0</td>\n",
       "      <td>3.0i Super V6, absoluter Topzustand !</td>\n",
       "    </tr>\n",
       "  </tbody>\n",
       "</table>\n",
       "</div>"
      ],
      "text/plain": [
       "   Unnamed: 0       brand              model  color registration_date  year  \\\n",
       "0           0  alfa-romeo     Alfa Romeo GTV    red           10/1995  1995   \n",
       "1           1  alfa-romeo     Alfa Romeo 164  black           02/1995  1995   \n",
       "2           2  alfa-romeo  Alfa Romeo Spider  black           02/1995  1995   \n",
       "3           3  alfa-romeo  Alfa Romeo Spider  black           07/1995  1995   \n",
       "4           4  alfa-romeo     Alfa Romeo 164    red           11/1996  1996   \n",
       "\n",
       "  price_in_euro power_kw power_ps transmission_type fuel_type  \\\n",
       "0          1300      148      201            Manual    Petrol   \n",
       "1         24900      191      260            Manual    Petrol   \n",
       "2          5900      110      150           Unknown    Petrol   \n",
       "3          4900      110      150            Manual    Petrol   \n",
       "4         17950      132      179            Manual    Petrol   \n",
       "\n",
       "  fuel_consumption_l_100km fuel_consumption_g_km  mileage_in_km  \\\n",
       "0            10,9 l/100 km              260 g/km       160500.0   \n",
       "1                      NaN              - (g/km)       190000.0   \n",
       "2                      NaN              - (g/km)       129000.0   \n",
       "3             9,5 l/100 km              225 g/km       189500.0   \n",
       "4             7,2 l/100 km              - (g/km)        96127.0   \n",
       "\n",
       "                       offer_description  \n",
       "0                              2.0 V6 TB  \n",
       "1                    Q4 Allrad, 3.2L GTA  \n",
       "2                          ALFA ROME 916  \n",
       "3                   2.0 16V Twin Spark L  \n",
       "4  3.0i Super V6, absoluter Topzustand !  "
      ]
     },
     "execution_count": 28,
     "metadata": {},
     "output_type": "execute_result"
    }
   ],
   "source": [
    "orignal_df = pd.read_csv('input/data.csv')\n",
    "orignal_df.head()"
   ]
  },
  {
   "cell_type": "code",
   "execution_count": 29,
   "id": "227880f8",
   "metadata": {},
   "outputs": [
    {
     "data": {
      "text/plain": [
       "(251079, 15)"
      ]
     },
     "execution_count": 29,
     "metadata": {},
     "output_type": "execute_result"
    }
   ],
   "source": [
    "orignal_df.shape"
   ]
  },
  {
   "cell_type": "code",
   "execution_count": 30,
   "id": "ff42b234",
   "metadata": {},
   "outputs": [
    {
     "name": "stdout",
     "output_type": "stream",
     "text": [
      "<class 'pandas.core.frame.DataFrame'>\n",
      "RangeIndex: 251079 entries, 0 to 251078\n",
      "Data columns (total 15 columns):\n",
      " #   Column                    Non-Null Count   Dtype  \n",
      "---  ------                    --------------   -----  \n",
      " 0   Unnamed: 0                251079 non-null  int64  \n",
      " 1   brand                     251079 non-null  object \n",
      " 2   model                     251079 non-null  object \n",
      " 3   color                     250913 non-null  object \n",
      " 4   registration_date         251075 non-null  object \n",
      " 5   year                      251079 non-null  object \n",
      " 6   price_in_euro             251079 non-null  object \n",
      " 7   power_kw                  250945 non-null  object \n",
      " 8   power_ps                  250950 non-null  object \n",
      " 9   transmission_type         251079 non-null  object \n",
      " 10  fuel_type                 251079 non-null  object \n",
      " 11  fuel_consumption_l_100km  224206 non-null  object \n",
      " 12  fuel_consumption_g_km     251079 non-null  object \n",
      " 13  mileage_in_km             250927 non-null  float64\n",
      " 14  offer_description         251078 non-null  object \n",
      "dtypes: float64(1), int64(1), object(13)\n",
      "memory usage: 28.7+ MB\n"
     ]
    }
   ],
   "source": [
    "orignal_df.info()"
   ]
  },
  {
   "cell_type": "code",
   "execution_count": 31,
   "id": "308f3936",
   "metadata": {},
   "outputs": [
    {
     "data": {
      "text/plain": [
       "Index(['Unnamed: 0', 'brand', 'model', 'color', 'registration_date', 'year',\n",
       "       'price_in_euro', 'power_kw', 'power_ps', 'transmission_type',\n",
       "       'fuel_type', 'fuel_consumption_l_100km', 'fuel_consumption_g_km',\n",
       "       'mileage_in_km', 'offer_description'],\n",
       "      dtype='object')"
      ]
     },
     "execution_count": 31,
     "metadata": {},
     "output_type": "execute_result"
    }
   ],
   "source": [
    "orignal_df.columns"
   ]
  },
  {
   "cell_type": "code",
   "execution_count": 32,
   "id": "286810bb",
   "metadata": {},
   "outputs": [],
   "source": [
    "orignal_df = orignal_df.drop(columns=['Unnamed: 0','power_kw', 'fuel_consumption_g_km','offer_description'])"
   ]
  },
  {
   "cell_type": "code",
   "execution_count": 33,
   "id": "a8d4b01f",
   "metadata": {},
   "outputs": [
    {
     "data": {
      "text/plain": [
       "Index(['brand', 'model', 'color', 'registration_date', 'year', 'price_in_euro',\n",
       "       'power_ps', 'transmission_type', 'fuel_type',\n",
       "       'fuel_consumption_l_100km', 'mileage_in_km'],\n",
       "      dtype='object')"
      ]
     },
     "execution_count": 33,
     "metadata": {},
     "output_type": "execute_result"
    }
   ],
   "source": [
    "orignal_df.columns"
   ]
  },
  {
   "cell_type": "code",
   "execution_count": 34,
   "id": "ae637cf3",
   "metadata": {},
   "outputs": [
    {
     "data": {
      "text/plain": [
       "brand                           0\n",
       "model                           0\n",
       "color                         166\n",
       "registration_date               4\n",
       "year                            0\n",
       "price_in_euro                   0\n",
       "power_ps                      129\n",
       "transmission_type               0\n",
       "fuel_type                       0\n",
       "fuel_consumption_l_100km    26873\n",
       "mileage_in_km                 152\n",
       "dtype: int64"
      ]
     },
     "execution_count": 34,
     "metadata": {},
     "output_type": "execute_result"
    }
   ],
   "source": [
    "orignal_df.isnull().sum()"
   ]
  },
  {
   "cell_type": "code",
   "execution_count": 35,
   "id": "d23a1cdb",
   "metadata": {},
   "outputs": [],
   "source": [
    "#dropping less null containing columns\n",
    "\n",
    "clean_df=orignal_df.dropna(subset=['color','registration_date','power_ps','mileage_in_km'])"
   ]
  },
  {
   "cell_type": "code",
   "execution_count": 36,
   "id": "4101fa36",
   "metadata": {},
   "outputs": [
    {
     "data": {
      "text/plain": [
       "0         10,9 l/100 km\n",
       "1                   NaN\n",
       "2                   NaN\n",
       "3          9,5 l/100 km\n",
       "4          7,2 l/100 km\n",
       "              ...      \n",
       "251074              NaN\n",
       "251075     7,6 l/100 km\n",
       "251076     4,7 l/100 km\n",
       "251077              NaN\n",
       "251078              NaN\n",
       "Name: fuel_consumption_l_100km, Length: 250635, dtype: object"
      ]
     },
     "execution_count": 36,
     "metadata": {},
     "output_type": "execute_result"
    }
   ],
   "source": [
    "\n",
    "clean_df['fuel_consumption_l_100km']"
   ]
  },
  {
   "cell_type": "code",
   "execution_count": 37,
   "id": "99dc0096",
   "metadata": {},
   "outputs": [
    {
     "data": {
      "text/plain": [
       "True     249474\n",
       "False      1161\n",
       "Name: fuel_consumption_l_100km, dtype: int64"
      ]
     },
     "execution_count": 37,
     "metadata": {},
     "output_type": "execute_result"
    }
   ],
   "source": [
    "substring = \"l/100 km\"\n",
    "matches = clean_df['fuel_consumption_l_100km'].str.contains(substring,na=True)\n",
    "matches.value_counts()"
   ]
  },
  {
   "cell_type": "code",
   "execution_count": 38,
   "id": "3926c668",
   "metadata": {},
   "outputs": [],
   "source": [
    "clean_df = clean_df[matches==True]"
   ]
  },
  {
   "cell_type": "code",
   "execution_count": 39,
   "id": "9c48c6ff",
   "metadata": {},
   "outputs": [],
   "source": [
    "warnings.filterwarnings(\"ignore\")\n",
    "clean_df.loc[:, 'fuel_consumption_l_100km'] = clean_df['fuel_consumption_l_100km'].str.replace(\",\", '.')\n",
    "clean_df.loc[:, 'fuel_consumption_l_100km'] = clean_df['fuel_consumption_l_100km'].replace('- (l/100 km)', np.nan)\n",
    "clean_df.loc[:, 'fuel_consumption_l_100km'] = clean_df['fuel_consumption_l_100km'].str.replace('l/100 km', '').astype(float)\n"
   ]
  },
  {
   "cell_type": "code",
   "execution_count": 40,
   "id": "e940aa24",
   "metadata": {},
   "outputs": [],
   "source": [
    "clean_df=clean_df.dropna(subset=['fuel_consumption_l_100km'])"
   ]
  },
  {
   "cell_type": "code",
   "execution_count": 41,
   "id": "2ec54c63",
   "metadata": {},
   "outputs": [
    {
     "data": {
      "text/plain": [
       "0         10.9\n",
       "3          9.5\n",
       "4          7.2\n",
       "5          9.5\n",
       "6          8.8\n",
       "          ... \n",
       "251071     7.4\n",
       "251072     5.6\n",
       "251073     5.6\n",
       "251075     7.6\n",
       "251076     4.7\n",
       "Name: fuel_consumption_l_100km, Length: 221590, dtype: float64"
      ]
     },
     "execution_count": 41,
     "metadata": {},
     "output_type": "execute_result"
    }
   ],
   "source": [
    "clean_df['fuel_consumption_l_100km']"
   ]
  },
  {
   "cell_type": "code",
   "execution_count": 42,
   "id": "3fe01db8",
   "metadata": {},
   "outputs": [],
   "source": [
    "clean_df.loc[:, 'price_in_euro'] = clean_df['price_in_euro'].astype(int)\n",
    "clean_df.loc[:, 'power_ps'] = clean_df['power_ps'].astype(int)"
   ]
  },
  {
   "cell_type": "code",
   "execution_count": 43,
   "id": "e87e8c50",
   "metadata": {},
   "outputs": [
    {
     "data": {
      "text/plain": [
       "(221590, 11)"
      ]
     },
     "execution_count": 43,
     "metadata": {},
     "output_type": "execute_result"
    }
   ],
   "source": [
    "clean_df.shape"
   ]
  },
  {
   "cell_type": "code",
   "execution_count": 44,
   "id": "70aa72f5",
   "metadata": {},
   "outputs": [
    {
     "name": "stdout",
     "output_type": "stream",
     "text": [
      "<class 'pandas.core.frame.DataFrame'>\n",
      "Int64Index: 221590 entries, 0 to 251076\n",
      "Data columns (total 11 columns):\n",
      " #   Column                    Non-Null Count   Dtype  \n",
      "---  ------                    --------------   -----  \n",
      " 0   brand                     221590 non-null  object \n",
      " 1   model                     221590 non-null  object \n",
      " 2   color                     221590 non-null  object \n",
      " 3   registration_date         221590 non-null  object \n",
      " 4   year                      221590 non-null  object \n",
      " 5   price_in_euro             221590 non-null  int64  \n",
      " 6   power_ps                  221590 non-null  int64  \n",
      " 7   transmission_type         221590 non-null  object \n",
      " 8   fuel_type                 221590 non-null  object \n",
      " 9   fuel_consumption_l_100km  221590 non-null  float64\n",
      " 10  mileage_in_km             221590 non-null  float64\n",
      "dtypes: float64(2), int64(2), object(7)\n",
      "memory usage: 20.3+ MB\n"
     ]
    }
   ],
   "source": [
    "clean_df.info()"
   ]
  },
  {
   "cell_type": "code",
   "execution_count": 45,
   "id": "f2802669",
   "metadata": {},
   "outputs": [
    {
     "name": "stdout",
     "output_type": "stream",
     "text": [
      "['1995' '1996' '1997' '1998' '1999' '2000' '2001' '2002' '2003' '2004'\n",
      " '2005' '2006' '2007' '2008' '2009' '2010' '2011' '2012' '2013' '2014'\n",
      " '2015' '2016' '2017' '2018' '2019' '2020' '2021' '2022' '2023']\n"
     ]
    }
   ],
   "source": [
    "print(clean_df['year'].unique())"
   ]
  },
  {
   "cell_type": "code",
   "execution_count": 46,
   "id": "3627c73f",
   "metadata": {},
   "outputs": [],
   "source": [
    "clean_df_5= clean_df.loc[(clean_df['year'] == \"2019\")|\n",
    "                       (clean_df['year'] == \"2020\")|\n",
    "                       (clean_df['year'] == \"2021\") | \n",
    "                        (clean_df['year'] == \"2022\") |\n",
    "                        (clean_df['year'] == \"2023\")]"
   ]
  },
  {
   "cell_type": "code",
   "execution_count": 47,
   "id": "0dafa8d4",
   "metadata": {},
   "outputs": [
    {
     "data": {
      "text/plain": [
       "(88616, 11)"
      ]
     },
     "execution_count": 47,
     "metadata": {},
     "output_type": "execute_result"
    }
   ],
   "source": [
    "clean_df_5.shape"
   ]
  },
  {
   "cell_type": "code",
   "execution_count": 48,
   "id": "a7556680",
   "metadata": {
    "scrolled": true
   },
   "outputs": [
    {
     "data": {
      "text/html": [
       "<div>\n",
       "<style scoped>\n",
       "    .dataframe tbody tr th:only-of-type {\n",
       "        vertical-align: middle;\n",
       "    }\n",
       "\n",
       "    .dataframe tbody tr th {\n",
       "        vertical-align: top;\n",
       "    }\n",
       "\n",
       "    .dataframe thead th {\n",
       "        text-align: right;\n",
       "    }\n",
       "</style>\n",
       "<table border=\"1\" class=\"dataframe\">\n",
       "  <thead>\n",
       "    <tr style=\"text-align: right;\">\n",
       "      <th></th>\n",
       "      <th>brand</th>\n",
       "      <th>model</th>\n",
       "      <th>color</th>\n",
       "      <th>registration_date</th>\n",
       "      <th>year</th>\n",
       "      <th>price_in_euro</th>\n",
       "      <th>power_ps</th>\n",
       "      <th>transmission_type</th>\n",
       "      <th>fuel_type</th>\n",
       "      <th>fuel_consumption_l_100km</th>\n",
       "      <th>mileage_in_km</th>\n",
       "    </tr>\n",
       "  </thead>\n",
       "  <tbody>\n",
       "    <tr>\n",
       "      <th>723</th>\n",
       "      <td>alfa-romeo</td>\n",
       "      <td>Alfa Romeo Stelvio</td>\n",
       "      <td>blue</td>\n",
       "      <td>08/2019</td>\n",
       "      <td>2019</td>\n",
       "      <td>41990</td>\n",
       "      <td>510</td>\n",
       "      <td>Automatic</td>\n",
       "      <td>Petrol</td>\n",
       "      <td>9.2</td>\n",
       "      <td>199000.0</td>\n",
       "    </tr>\n",
       "    <tr>\n",
       "      <th>724</th>\n",
       "      <td>alfa-romeo</td>\n",
       "      <td>Alfa Romeo Giulietta</td>\n",
       "      <td>blue</td>\n",
       "      <td>10/2019</td>\n",
       "      <td>2019</td>\n",
       "      <td>16995</td>\n",
       "      <td>120</td>\n",
       "      <td>Manual</td>\n",
       "      <td>Petrol</td>\n",
       "      <td>7.4</td>\n",
       "      <td>49700.0</td>\n",
       "    </tr>\n",
       "    <tr>\n",
       "      <th>725</th>\n",
       "      <td>alfa-romeo</td>\n",
       "      <td>Alfa Romeo Giulia</td>\n",
       "      <td>blue</td>\n",
       "      <td>02/2019</td>\n",
       "      <td>2019</td>\n",
       "      <td>30880</td>\n",
       "      <td>209</td>\n",
       "      <td>Automatic</td>\n",
       "      <td>Diesel</td>\n",
       "      <td>5.5</td>\n",
       "      <td>129357.0</td>\n",
       "    </tr>\n",
       "    <tr>\n",
       "      <th>726</th>\n",
       "      <td>alfa-romeo</td>\n",
       "      <td>Alfa Romeo Stelvio</td>\n",
       "      <td>blue</td>\n",
       "      <td>10/2019</td>\n",
       "      <td>2019</td>\n",
       "      <td>30890</td>\n",
       "      <td>190</td>\n",
       "      <td>Automatic</td>\n",
       "      <td>Diesel</td>\n",
       "      <td>6.1</td>\n",
       "      <td>82239.0</td>\n",
       "    </tr>\n",
       "    <tr>\n",
       "      <th>727</th>\n",
       "      <td>alfa-romeo</td>\n",
       "      <td>Alfa Romeo Stelvio</td>\n",
       "      <td>blue</td>\n",
       "      <td>05/2019</td>\n",
       "      <td>2019</td>\n",
       "      <td>68900</td>\n",
       "      <td>510</td>\n",
       "      <td>Unknown</td>\n",
       "      <td>Petrol</td>\n",
       "      <td>9.8</td>\n",
       "      <td>7000.0</td>\n",
       "    </tr>\n",
       "  </tbody>\n",
       "</table>\n",
       "</div>"
      ],
      "text/plain": [
       "          brand                 model color registration_date  year  \\\n",
       "723  alfa-romeo    Alfa Romeo Stelvio  blue           08/2019  2019   \n",
       "724  alfa-romeo  Alfa Romeo Giulietta  blue           10/2019  2019   \n",
       "725  alfa-romeo     Alfa Romeo Giulia  blue           02/2019  2019   \n",
       "726  alfa-romeo    Alfa Romeo Stelvio  blue           10/2019  2019   \n",
       "727  alfa-romeo    Alfa Romeo Stelvio  blue           05/2019  2019   \n",
       "\n",
       "     price_in_euro  power_ps transmission_type fuel_type  \\\n",
       "723          41990       510         Automatic    Petrol   \n",
       "724          16995       120            Manual    Petrol   \n",
       "725          30880       209         Automatic    Diesel   \n",
       "726          30890       190         Automatic    Diesel   \n",
       "727          68900       510           Unknown    Petrol   \n",
       "\n",
       "     fuel_consumption_l_100km  mileage_in_km  \n",
       "723                       9.2       199000.0  \n",
       "724                       7.4        49700.0  \n",
       "725                       5.5       129357.0  \n",
       "726                       6.1        82239.0  \n",
       "727                       9.8         7000.0  "
      ]
     },
     "execution_count": 48,
     "metadata": {},
     "output_type": "execute_result"
    }
   ],
   "source": [
    "clean_df_5.head()"
   ]
  },
  {
   "cell_type": "code",
   "execution_count": 49,
   "id": "6aa05026",
   "metadata": {},
   "outputs": [],
   "source": [
    "clean_df_5.to_csv('base_clean/base_5_data.csv')"
   ]
  },
  {
   "cell_type": "code",
   "execution_count": 50,
   "id": "e43b078b",
   "metadata": {},
   "outputs": [],
   "source": [
    "clean_df_3= clean_df.loc[(clean_df['year'] == \"2021\") | \n",
    "                        (clean_df['year'] == \"2022\") |\n",
    "                        (clean_df['year'] == \"2023\")]"
   ]
  },
  {
   "cell_type": "code",
   "execution_count": 51,
   "id": "aa580b91",
   "metadata": {},
   "outputs": [],
   "source": [
    "clean_df_3.to_csv('base_clean/base_3_data.csv')"
   ]
  }
 ],
 "metadata": {
  "kernelspec": {
   "display_name": "Python 3 (ipykernel)",
   "language": "python",
   "name": "python3"
  },
  "language_info": {
   "codemirror_mode": {
    "name": "ipython",
    "version": 3
   },
   "file_extension": ".py",
   "mimetype": "text/x-python",
   "name": "python",
   "nbconvert_exporter": "python",
   "pygments_lexer": "ipython3",
   "version": "3.10.11"
  }
 },
 "nbformat": 4,
 "nbformat_minor": 5
}
